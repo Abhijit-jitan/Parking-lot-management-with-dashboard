{
 "cells": [
  {
   "cell_type": "code",
   "execution_count": null,
   "metadata": {},
   "outputs": [],
   "source": [
    "## Extract Images from video by requried specification\n",
    "\n",
    "import cv2,os\n",
    "def FrameCapture(in_path,out_path):\n",
    "    vidObj = cv2.VideoCapture(in_path)\n",
    "    count = 0\n",
    "    success = 1\n",
    "  \n",
    "    while success:\n",
    "        success, image = vidObj.read()\n",
    "        cropped_=image[111:563,907:1915] #[907:111,563:1915]\n",
    "        #cropped_=cv2.rotate(cropped_,cv2.ROTATE_90_CLOCKWISE)\n",
    "        resized=cv2.resize(cropped_,(1920,1080),interpolation = cv2.INTER_AREA)\n",
    "        cv2.imwrite(os.path.join(out_path,str(count)+\".jpg\"),resized) \n",
    "        count += 1\n",
    "  \n",
    "if __name__ == '__main__':\n",
    "    FrameCapture(r\"video_data\\parking lot areal view.mp4\",r\"video_data\\frames\")"
   ]
  },
  {
   "cell_type": "code",
   "execution_count": 4,
   "metadata": {},
   "outputs": [
    {
     "name": "stdout",
     "output_type": "stream",
     "text": [
      "Generating the video\n"
     ]
    }
   ],
   "source": [
    "## Make video from frames\n",
    "import cv2\n",
    "W,H=1920,1080\n",
    "in_path=r\"D:\\projects\\Parking Lot Management system with dashboard\\video_data\\frames\"\n",
    "out_path=r\"D:\\projects\\Parking Lot Management system with dashboard\\video_data\\modified_video.mp4\"\n",
    "\n",
    "filelist = os.listdir(in_path)\n",
    "filelist = sorted(filelist,key=lambda x: int(os.path.splitext(x)[0]))\n",
    "\n",
    "img_array=[]\n",
    "for i in filelist:\n",
    "    #print(\"name:\",i)\n",
    "    img=cv2.imread(os.path.join(in_path,i))\n",
    "    img_array.append(img)\n",
    "\n",
    "out = cv2.VideoWriter(out_path,cv2.VideoWriter_fourcc(*'DIVX'), 15, (W,H))\n",
    "print(\"Generating the video !!!\")\n",
    "for i in range(len(img_array)):\n",
    "    # writing to a image array\n",
    "    out.write(img_array[i])\n",
    "out.release()"
   ]
  },
  {
   "cell_type": "code",
   "execution_count": 4,
   "metadata": {},
   "outputs": [
    {
     "name": "stdout",
     "output_type": "stream",
     "text": [
      "2022-07-10 12:37:13.383155\n",
      "July 10, 2022 12:37:13\n"
     ]
    }
   ],
   "source": [
    "import datetime\n",
    "\n",
    "now=datetime.datetime.now()\n",
    "print(now)\n",
    "date=now.strftime(\"%b %d, %Y\")\n",
    "time=now.strftime(\"%H:%M:%S\")\n",
    "print(date,time)"
   ]
  },
  {
   "cell_type": "code",
   "execution_count": null,
   "metadata": {},
   "outputs": [],
   "source": []
  }
 ],
 "metadata": {
  "kernelspec": {
   "display_name": "Python 3.7.0 ('tf_2.3')",
   "language": "python",
   "name": "python3"
  },
  "language_info": {
   "codemirror_mode": {
    "name": "ipython",
    "version": 3
   },
   "file_extension": ".py",
   "mimetype": "text/x-python",
   "name": "python",
   "nbconvert_exporter": "python",
   "pygments_lexer": "ipython3",
   "version": "3.7.0"
  },
  "orig_nbformat": 4,
  "vscode": {
   "interpreter": {
    "hash": "c3090c7b33168079eafb27898b1d661905f664ae57e9d01951eb311dc377d09f"
   }
  }
 },
 "nbformat": 4,
 "nbformat_minor": 2
}
